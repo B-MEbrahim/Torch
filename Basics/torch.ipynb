{
  "nbformat": 4,
  "nbformat_minor": 0,
  "metadata": {
    "colab": {
      "provenance": [],
      "gpuType": "T4",
      "authorship_tag": "ABX9TyOIkAWp8k/L3kdQIezVtJGH",
      "include_colab_link": true
    },
    "kernelspec": {
      "name": "python3",
      "display_name": "Python 3"
    },
    "language_info": {
      "name": "python"
    },
    "accelerator": "GPU"
  },
  "cells": [
    {
      "cell_type": "markdown",
      "metadata": {
        "id": "view-in-github",
        "colab_type": "text"
      },
      "source": [
        "<a href=\"https://colab.research.google.com/github/B-MEbrahim/Torch/blob/main/Basics/torch.ipynb\" target=\"_parent\"><img src=\"https://colab.research.google.com/assets/colab-badge.svg\" alt=\"Open In Colab\"/></a>"
      ]
    },
    {
      "cell_type": "code",
      "execution_count": null,
      "metadata": {
        "id": "l9CYZnFtFPmC"
      },
      "outputs": [],
      "source": [
        "import torch\n",
        "from torch import nn\n",
        "from torch.utils.data import DataLoader\n",
        "from torchvision import datasets\n",
        "from torchvision.transforms import ToTensor"
      ]
    },
    {
      "cell_type": "code",
      "source": [
        "# download training data\n",
        "training_data= datasets.FashionMNIST(\n",
        "    root='data',\n",
        "    train=True,\n",
        "    download=True,\n",
        "    transform=ToTensor()\n",
        ")\n",
        "\n",
        "# download test dataset\n",
        "test_data = datasets.FashionMNIST(\n",
        "    root='data',\n",
        "    train=False,\n",
        "    download=True,\n",
        "    transform=ToTensor()\n",
        ")"
      ],
      "metadata": {
        "id": "-ynYe8SLFxYg"
      },
      "execution_count": null,
      "outputs": []
    },
    {
      "cell_type": "code",
      "source": [
        "batch_size = 64\n",
        "\n",
        "# create data loaders\n",
        "train_dataloader = DataLoader(training_data, batch_size=batch_size)\n",
        "test_dataloader = DataLoader(test_data, batch_size=batch_size)\n",
        "\n",
        "for X, y in test_dataloader:\n",
        "  print(f\"Shape of X [N, C, H, W]: {X.shape}\")\n",
        "  print(f\"Shape of y {y.shape} {y.dtype}\")\n"
      ],
      "metadata": {
        "id": "ivEQfAeVGd4r"
      },
      "execution_count": null,
      "outputs": []
    },
    {
      "cell_type": "markdown",
      "source": [
        "## Creating Models"
      ],
      "metadata": {
        "id": "zn0eoJLpIaZV"
      }
    },
    {
      "cell_type": "markdown",
      "source": [
        "To define a neural network in PyTorch, we create a class that inherits from nn.Module.\n",
        "We define the layers of the network in the __init__ function and specify how data will pass through the network in the forward function.\n",
        "To accelerate operations in the neural network, we move it to the accelerator such as CUDA, MPS, MTIA, or XPU.\n",
        "If the current accelerator is available, we will use it. Otherwise, we use the CPU."
      ],
      "metadata": {
        "id": "d-v19wgaIgy_"
      }
    },
    {
      "cell_type": "code",
      "source": [
        "device = torch.accelerator.current_accelerator().type if torch.accelerator.is_available() else \"cpu\""
      ],
      "metadata": {
        "id": "yfjvaLeTIfr2"
      },
      "execution_count": null,
      "outputs": []
    },
    {
      "cell_type": "code",
      "source": [
        "class NeuralNetwork(nn.Module):\n",
        "  def __init__(self):\n",
        "    super().__init__()\n",
        "    self.flatten = nn.Flatten()\n",
        "    self.linear_relu_stack = nn.Sequential(\n",
        "        nn.Linear(28*28, 512),\n",
        "        nn.ReLU(),\n",
        "        nn.Linear(512, 512),\n",
        "        nn.ReLU(),\n",
        "        nn.Linear(512, 10)\n",
        "    )\n",
        "\n",
        "  def forward(self, x):\n",
        "    x = self.flatten(x)\n",
        "    logits = self.linear_relu_stack(x)\n",
        "    return logits"
      ],
      "metadata": {
        "id": "FxfA8BopIvVq"
      },
      "execution_count": null,
      "outputs": []
    },
    {
      "cell_type": "code",
      "source": [
        "model = NeuralNetwork().to(device)\n",
        "print(model)"
      ],
      "metadata": {
        "colab": {
          "base_uri": "https://localhost:8080/"
        },
        "id": "dlzZJcxiJu5j",
        "outputId": "42a64169-6307-48bb-d26b-a2137fdecc09"
      },
      "execution_count": null,
      "outputs": [
        {
          "output_type": "stream",
          "name": "stdout",
          "text": [
            "NeuralNetwork(\n",
            "  (flatten): Flatten(start_dim=1, end_dim=-1)\n",
            "  (linear_relu_stack): Sequential(\n",
            "    (0): Linear(in_features=784, out_features=512, bias=True)\n",
            "    (1): ReLU()\n",
            "    (2): Linear(in_features=512, out_features=512, bias=True)\n",
            "    (3): ReLU()\n",
            "    (4): Linear(in_features=512, out_features=10, bias=True)\n",
            "  )\n",
            ")\n"
          ]
        }
      ]
    },
    {
      "cell_type": "code",
      "source": [
        "loss_fn = nn.CrossEntropyLoss()\n",
        "optimizer = torch.optim.SGD(model.parameters(), lr=1e-3)"
      ],
      "metadata": {
        "id": "ydtyCLXfJ4s3"
      },
      "execution_count": null,
      "outputs": []
    },
    {
      "cell_type": "code",
      "source": [
        "def train(dataloader, model, loss_fn, optimizer):\n",
        "  size = len(dataloader.dataset)\n",
        "  model.train()\n",
        "  for batch, (X, y) in enumerate(dataloader):\n",
        "    X, y = X.to(device), y.to(device)\n",
        "\n",
        "    # compute predection error\n",
        "    pred = model(X)\n",
        "    loss = loss_fn(pred, y)\n",
        "\n",
        "    # Backpropagation\n",
        "    loss.backward()\n",
        "    optimizer.step()\n",
        "    optimizer.zero_grad()\n",
        "\n",
        "    if batch % 100 == 0:\n",
        "      loss, current = loss.item(), (batch + 1) * len(X)\n",
        "      print(f\"loss: {loss:>7f}  [{current:>5d}/{size:>5d}]\")"
      ],
      "metadata": {
        "id": "Pz0MywJsKHhw"
      },
      "execution_count": null,
      "outputs": []
    },
    {
      "cell_type": "code",
      "source": [
        "def test(dataloader, model, loss_fn):\n",
        "  size = len(dataloader.dataset)\n",
        "  num_batches = len(dataloader)\n",
        "  model.eval()\n",
        "  test_loss, correct = 0, 0\n",
        "  with torch.no_grad():\n",
        "    for X, y in dataloader:\n",
        "      X, y = X.to(device), y.to(device)\n",
        "      pred = model(X)\n",
        "      test_loss += loss_fn(pred, y).item()\n",
        "      correct += (pred.argmax(1) == y).type(torch.float).sum().item()\n",
        "  test_loss /= num_batches\n",
        "  correct /= size\n",
        "  print(f\"Test Error: \\n Accuracy: {(100*correct):>0.1f}%, Avg loss: {test_loss:>8f} \\n\")"
      ],
      "metadata": {
        "id": "6P4WWF8yLVyx"
      },
      "execution_count": null,
      "outputs": []
    },
    {
      "cell_type": "code",
      "source": [
        "epochs = 5\n",
        "for t in range(epochs):\n",
        "  print(f\"Epoch {t+1}\\n-------------------------------\")\n",
        "  train(train_dataloader, model, loss_fn, optimizer)\n",
        "  test(test_dataloader, model, loss_fn)\n",
        "print(\"Done!\")\n"
      ],
      "metadata": {
        "colab": {
          "base_uri": "https://localhost:8080/"
        },
        "id": "nWwNNaHhLCfA",
        "outputId": "f2badb90-a1d0-4dbe-bd0e-5e1746fa1142"
      },
      "execution_count": null,
      "outputs": [
        {
          "output_type": "stream",
          "name": "stdout",
          "text": [
            "Epoch 1\n",
            "-------------------------------\n",
            "loss: 2.314205  [   64/60000]\n",
            "loss: 2.295560  [ 6464/60000]\n",
            "loss: 2.272713  [12864/60000]\n",
            "loss: 2.270497  [19264/60000]\n",
            "loss: 2.249117  [25664/60000]\n",
            "loss: 2.219151  [32064/60000]\n",
            "loss: 2.232007  [38464/60000]\n",
            "loss: 2.188933  [44864/60000]\n",
            "loss: 2.188210  [51264/60000]\n",
            "loss: 2.160650  [57664/60000]\n",
            "Test Error: \n",
            " Accuracy: 46.9%, Avg loss: 2.150342 \n",
            "\n",
            "Epoch 2\n",
            "-------------------------------\n",
            "loss: 2.161109  [   64/60000]\n",
            "loss: 2.148029  [ 6464/60000]\n",
            "loss: 2.085814  [12864/60000]\n",
            "loss: 2.111687  [19264/60000]\n",
            "loss: 2.044677  [25664/60000]\n",
            "loss: 1.981828  [32064/60000]\n",
            "loss: 2.026043  [38464/60000]\n",
            "loss: 1.927383  [44864/60000]\n",
            "loss: 1.938266  [51264/60000]\n",
            "loss: 1.881507  [57664/60000]\n",
            "Test Error: \n",
            " Accuracy: 56.1%, Avg loss: 1.866476 \n",
            "\n",
            "Epoch 3\n",
            "-------------------------------\n",
            "loss: 1.898940  [   64/60000]\n",
            "loss: 1.871067  [ 6464/60000]\n",
            "loss: 1.742482  [12864/60000]\n",
            "loss: 1.800047  [19264/60000]\n",
            "loss: 1.677267  [25664/60000]\n",
            "loss: 1.622275  [32064/60000]\n",
            "loss: 1.671852  [38464/60000]\n",
            "loss: 1.551025  [44864/60000]\n",
            "loss: 1.587308  [51264/60000]\n",
            "loss: 1.495673  [57664/60000]\n",
            "Test Error: \n",
            " Accuracy: 60.7%, Avg loss: 1.500912 \n",
            "\n",
            "Epoch 4\n",
            "-------------------------------\n",
            "loss: 1.567684  [   64/60000]\n",
            "loss: 1.539074  [ 6464/60000]\n",
            "loss: 1.378574  [12864/60000]\n",
            "loss: 1.465141  [19264/60000]\n",
            "loss: 1.338729  [25664/60000]\n",
            "loss: 1.325749  [32064/60000]\n",
            "loss: 1.364473  [38464/60000]\n",
            "loss: 1.273422  [44864/60000]\n",
            "loss: 1.315127  [51264/60000]\n",
            "loss: 1.221131  [57664/60000]\n",
            "Test Error: \n",
            " Accuracy: 63.3%, Avg loss: 1.243387 \n",
            "\n",
            "Epoch 5\n",
            "-------------------------------\n",
            "loss: 1.319316  [   64/60000]\n",
            "loss: 1.307347  [ 6464/60000]\n",
            "loss: 1.134889  [12864/60000]\n",
            "loss: 1.248667  [19264/60000]\n",
            "loss: 1.120105  [25664/60000]\n",
            "loss: 1.135397  [32064/60000]\n",
            "loss: 1.175773  [38464/60000]\n",
            "loss: 1.101845  [44864/60000]\n",
            "loss: 1.144640  [51264/60000]\n",
            "loss: 1.062476  [57664/60000]\n",
            "Test Error: \n",
            " Accuracy: 64.7%, Avg loss: 1.083313 \n",
            "\n",
            "Done!\n"
          ]
        }
      ]
    },
    {
      "cell_type": "code",
      "source": [
        "torch.save(model.state_dict(), \"model.pth\")\n",
        "print(\"Saved PyTorch Model State to model.pth\")"
      ],
      "metadata": {
        "colab": {
          "base_uri": "https://localhost:8080/"
        },
        "id": "gpjwImccMP-_",
        "outputId": "d391bae0-7944-47df-a72d-8f9b120cbd6f"
      },
      "execution_count": null,
      "outputs": [
        {
          "output_type": "stream",
          "name": "stdout",
          "text": [
            "Saved PyTorch Model State to model.pth\n"
          ]
        }
      ]
    },
    {
      "cell_type": "code",
      "source": [
        "model = NeuralNetwork().to(device)\n",
        "model.load_state_dict(torch.load(\"model.pth\", weights_only=True))"
      ],
      "metadata": {
        "colab": {
          "base_uri": "https://localhost:8080/"
        },
        "id": "aqXVajbjMf8f",
        "outputId": "03a81610-8fa6-46b1-8489-de764421293e"
      },
      "execution_count": null,
      "outputs": [
        {
          "output_type": "execute_result",
          "data": {
            "text/plain": [
              "<All keys matched successfully>"
            ]
          },
          "metadata": {},
          "execution_count": 18
        }
      ]
    },
    {
      "cell_type": "code",
      "source": [
        "classes = [\n",
        "    \"T-shirt/top\",\n",
        "    \"Trouser\",\n",
        "    \"Pullover\",\n",
        "    \"Dress\",\n",
        "    \"Coat\",\n",
        "    \"Sandal\",\n",
        "    \"Shirt\",\n",
        "    \"Sneaker\",\n",
        "    \"Bag\",\n",
        "    \"Ankle boot\",\n",
        "]\n",
        "\n",
        "model.eval()\n",
        "x, y = test_data[0][0], test_data[0][1]\n",
        "with torch.no_grad():\n",
        "    x = x.to(device)\n",
        "    pred = model(x)\n",
        "    predicted, actual = classes[pred[0].argmax(0)], classes[y]\n",
        "    print(f'Predicted: \"{predicted}\", Actual: \"{actual}\"')"
      ],
      "metadata": {
        "colab": {
          "base_uri": "https://localhost:8080/"
        },
        "id": "Qt6hnz8TMmra",
        "outputId": "ac4f21f4-017d-439f-ef11-434eb7648fcf"
      },
      "execution_count": null,
      "outputs": [
        {
          "output_type": "stream",
          "name": "stdout",
          "text": [
            "Predicted: \"Ankle boot\", Actual: \"Ankle boot\"\n"
          ]
        }
      ]
    }
  ]
}